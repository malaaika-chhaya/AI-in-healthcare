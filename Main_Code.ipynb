{
 "cells": [
  {
   "cell_type": "code",
   "execution_count": 1,
   "id": "e3edc6dc",
   "metadata": {},
   "outputs": [],
   "source": [
    "import torch\n",
    "from torch.utils.data import DataLoader, random_split\n",
    "from torchvision import transforms\n",
    "from torchvision.datasets import ImageFolder\n",
    "# Define transforms to be applied to the input images\n",
    "transform = transforms.Compose([\n",
    "    transforms.Resize((794, 801)),  # Resize the input images to the desired size\n",
    "    transforms.ToTensor(),  # Convert the input images to tensors\n",
    "    transforms.Normalize(mean=[0.5, 0.5, 0.5], std=[0.5, 0.5, 0.5]),  # Normalize the input images\n",
    "])\n",
    "# Define the dataset object\n",
    "dataset_train = ImageFolder(root='C:/Users/bm112bioinformaticsl/OneDrive/Desktop/multi_task/S_transform/train_dataset/', transform=transform)\n",
    "dataset_test = ImageFolder(root='C:/Users/bm112bioinformaticsl/OneDrive/Desktop/multi_task/S_transform/test_dataset/', transform=transform)\n",
    "# Define the batch size and number of workers for data loading\n",
    "batch_size = 32\n",
    "num_workers = 4\n",
    "num_epochs=10\n",
    "# Define the data loader for training\n",
    "# train_loader = DataLoader(dataset, batch_size=batch_size, num_workers=num_workers, shuffle=True)\n",
    "# train_dataset, test_dataset = random_split(dataset, [int(0.5*dataset.__len__()), int(0.5*dataset.__len__())])\n",
    "train_loader = torch.utils.data.DataLoader(dataset=dataset_train, batch_size=batch_size, shuffle=True)\n",
    "test_loader = torch.utils.data.DataLoader(dataset=dataset_test, batch_size=batch_size, shuffle=True)\n"
   ]
  },
  {
   "cell_type": "code",
   "execution_count": 2,
   "id": "a623ec36-60e6-4709-8451-18bc4e79c7da",
   "metadata": {},
   "outputs": [
    {
     "name": "stdout",
     "output_type": "stream",
     "text": [
      "Epoch 1/10, Train Loss: 1.172, Train Accuracy: 50.000%\n"
     ]
    },
    {
     "ename": "NameError",
     "evalue": "name 'plt' is not defined",
     "output_type": "error",
     "traceback": [
      "\u001b[1;31m---------------------------------------------------------------------------\u001b[0m",
      "\u001b[1;31mNameError\u001b[0m                                 Traceback (most recent call last)",
      "Cell \u001b[1;32mIn[2], line 78\u001b[0m\n\u001b[0;32m     75\u001b[0m     train_accuracy \u001b[38;5;241m=\u001b[39m \u001b[38;5;241m100\u001b[39m \u001b[38;5;241m*\u001b[39m correct \u001b[38;5;241m/\u001b[39m total\n\u001b[0;32m     77\u001b[0m \u001b[38;5;28mprint\u001b[39m(\u001b[38;5;124mf\u001b[39m\u001b[38;5;124m\"\u001b[39m\u001b[38;5;124mEpoch \u001b[39m\u001b[38;5;132;01m{\u001b[39;00mepoch\u001b[38;5;241m+\u001b[39m\u001b[38;5;241m1\u001b[39m\u001b[38;5;132;01m}\u001b[39;00m\u001b[38;5;124m/\u001b[39m\u001b[38;5;132;01m{\u001b[39;00mnum_epochs\u001b[38;5;132;01m}\u001b[39;00m\u001b[38;5;124m, Train Loss: \u001b[39m\u001b[38;5;132;01m{\u001b[39;00mtrain_loss\u001b[38;5;132;01m:\u001b[39;00m\u001b[38;5;124m.3f\u001b[39m\u001b[38;5;132;01m}\u001b[39;00m\u001b[38;5;124m, Train Accuracy: \u001b[39m\u001b[38;5;132;01m{\u001b[39;00mtrain_accuracy\u001b[38;5;132;01m:\u001b[39;00m\u001b[38;5;124m.3f\u001b[39m\u001b[38;5;132;01m}\u001b[39;00m\u001b[38;5;124m%\u001b[39m\u001b[38;5;124m\"\u001b[39m)\n\u001b[1;32m---> 78\u001b[0m \u001b[43mplt\u001b[49m\u001b[38;5;241m.\u001b[39mplot(num_epochs, train_loss)\n\u001b[0;32m     79\u001b[0m plt\u001b[38;5;241m.\u001b[39mxlabel(\u001b[38;5;124m'\u001b[39m\u001b[38;5;124mEpochs\u001b[39m\u001b[38;5;124m'\u001b[39m)\n\u001b[0;32m     80\u001b[0m plt\u001b[38;5;241m.\u001b[39mylabel(\u001b[38;5;124m'\u001b[39m\u001b[38;5;124mtrain loss\u001b[39m\u001b[38;5;124m'\u001b[39m)\n",
      "\u001b[1;31mNameError\u001b[0m: name 'plt' is not defined"
     ]
    }
   ],
   "source": [
    "#device = torch.device('cuda:0' if torch.cuda.is_available() else 'cpu')\n",
    "import torch\n",
    "import torch.nn as nn\n",
    "import torch.nn.functional as F\n",
    "class CNNModel(nn.Module):\n",
    "    def __init__(self, num_classes=2, embedding_dim=2):\n",
    "        super(CNNModel, self).__init__()\n",
    "        self.num_classes = num_classes\n",
    "        self.embedding_dim = embedding_dim\n",
    "        # Define CNN-2D layers\n",
    "        self.conv1 = nn.Conv2d(3, 32, kernel_size=3, padding=1)\n",
    "        self.pool1 = nn.MaxPool2d(kernel_size=2, stride=2)\n",
    "        self.conv2 = nn.Conv2d(32, 64, kernel_size=3, padding=1)\n",
    "        self.pool2 = nn.MaxPool2d(kernel_size=2, stride=2)\n",
    "        self.conv3 = nn.Conv2d(64, 128, kernel_size=3, padding=1)\n",
    "        self.pool3 = nn.MaxPool2d(kernel_size=2, stride=2)\n",
    "        # Define MTL module with center loss\n",
    "        self.flatten = nn.Flatten()\n",
    "        self.dense_aux = nn.Linear(1267200, embedding_dim)\n",
    "        self.dense_aux_norm = nn.BatchNorm1d(embedding_dim)\n",
    "        self.centers = nn.Embedding(num_classes, embedding_dim)\n",
    "        # Define main classification task using sigmoid layer\n",
    "        self.dense_mi = nn.Linear(1267200, 1)\n",
    "        # Define auxiliary classification task\n",
    "        self.aux_task_output = nn.Linear(1267200, num_classes)\n",
    "        self.aux_task_output_normed = nn.Softmax(dim=1)\n",
    "\n",
    "    def forward(self, x, y=None):\n",
    "        # CNN-2D layers\n",
    "        x = F.relu(self.conv1(x))\n",
    "        x = self.pool1(x)\n",
    "        x = F.relu(self.conv2(x))\n",
    "        x = self.pool2(x)\n",
    "        x = F.relu(self.conv3(x))\n",
    "        x = self.pool3(x)\n",
    "        # Flatten output of CNN-2D layers\n",
    "        x = self.flatten(x)\n",
    "        # MTL module with center loss\n",
    "        aux_out = self.dense_aux(x)\n",
    "        aux_out_norm = self.dense_aux_norm(aux_out)\n",
    "        center_loss = torch.mean(torch.square(aux_out_norm - self.centers(y)))\n",
    "        # Main and auxiliary task outputs\n",
    "        mi_out = torch.sigmoid(self.dense_mi(x))\n",
    "        aux_task_out = self.aux_task_output(x)\n",
    "        aux_task_out_normed = self.aux_task_output_normed(aux_task_out)\n",
    "        if y is not None:\n",
    "            return mi_out, aux_task_out_normed, center_loss\n",
    "        else:\n",
    "            return mi_out, aux_task_out_normed\n",
    "model = CNNModel(num_classes=2)\n",
    "alpha_weight = 0.5\n",
    "beta_weight = 0.7\n",
    "optimizer = torch.optim.Adam(model.parameters(), lr=0.001)\n",
    "def m2nn_loss(mi_true, aux_true, mi_pred, aux_pred, center_loss):\n",
    "    main_task_loss = F.cross_entropy(mi_pred, mi_true)\n",
    "#     aux_task_loss = F.cross_entropy(aux_pred, aux_true)\n",
    "    return alpha_weight*main_task_loss + beta_weight*center_loss\n",
    "for epoch in range(num_epochs):\n",
    "    model.train()\n",
    "    train_loss = 0\n",
    "    correct = 0\n",
    "    total = 0\n",
    "    for i, (images, labels) in enumerate(train_loader):\n",
    "        images = images\n",
    "        labels = labels\n",
    "        optimizer.zero_grad()\n",
    "        mi_out, aux_task_out_normed, center_loss = model(images, labels)\n",
    "        loss = m2nn_loss(mi_true=labels.unsqueeze(1).float(), aux_true=labels, mi_pred=mi_out, aux_pred=aux_task_out_normed, center_loss=center_loss)\n",
    "        loss.backward()\n",
    "        optimizer.step()\n",
    "        train_loss += loss.item()\n",
    "        _, predicted = torch.max(aux_task_out_normed.data, 1)\n",
    "        total += labels.size(0)\n",
    "        correct += (predicted == labels).sum().item()\n",
    "        train_accuracy = 100 * correct / total\n",
    "        \n",
    "    print(f\"Epoch {epoch+1}/{num_epochs}, Train Loss: {train_loss:.3f}, Train Accuracy: {train_accuracy:.3f}%\")\n",
    "    plt.plot(num_epochs, train_loss)\n",
    "    plt.xlabel('Epochs')\n",
    "    plt.ylabel('train loss')\n",
    "        \n",
    "    plt.figure()\n",
    "    plt.plot(num_epochs, train_accuracy)\n",
    "    plt.xlabel('Epochs')\n",
    "    plt.ylabel('train accuracy')"
   ]
  },
  {
   "cell_type": "code",
   "execution_count": 45,
   "id": "3ede7b8a-8e32-4025-8949-c8a951558254",
   "metadata": {},
   "outputs": [
    {
     "name": "stdout",
     "output_type": "stream",
     "text": [
      "Epoch 1/10, Test Loss: 37.196, Test Accuracy: 75.000%\n",
      "Epoch 2/10, Test Loss: 336.824, Test Accuracy: 50.000%\n",
      "Epoch 3/10, Test Loss: 19.538, Test Accuracy: 50.000%\n",
      "Epoch 4/10, Test Loss: 60.867, Test Accuracy: 50.000%\n",
      "Epoch 5/10, Test Loss: 89.222, Test Accuracy: 50.000%\n",
      "Epoch 6/10, Test Loss: 29.434, Test Accuracy: 25.000%\n",
      "Epoch 7/10, Test Loss: 2.163, Test Accuracy: 50.000%\n",
      "Epoch 8/10, Test Loss: 3.638, Test Accuracy: 75.000%\n",
      "Epoch 9/10, Test Loss: 9.877, Test Accuracy: 50.000%\n",
      "Epoch 10/10, Test Loss: 13.035, Test Accuracy: 50.000%\n"
     ]
    },
    {
     "data": {
      "image/png": "[encoded data removed]",
      "text/plain": [
       "<Figure size 640x480 with 1 Axes>"
      ]
     },
     "metadata": {},
     "output_type": "display_data"
    }
   ],
   "source": [
    "for epoch in range(num_epochs):\n",
    "    model.eval()\n",
    "    test_loss = 0\n",
    "    correct = 0\n",
    "    total = 0\n",
    "    for i, (images, labels) in enumerate(test_loader):\n",
    "        images = images\n",
    "        labels = labels\n",
    "        optimizer.zero_grad()\n",
    "        mi_out, aux_task_out_normed, center_loss = model(images, labels)\n",
    "        loss = m2nn_loss(mi_true=labels.unsqueeze(1).float(), aux_true=labels, mi_pred=mi_out, aux_pred=aux_task_out_normed, center_loss=center_loss)\n",
    "        loss.backward()\n",
    "        optimizer.step()\n",
    "        test_loss += loss.item()\n",
    "        _, predicted = torch.max(aux_task_out_normed.data, 1)\n",
    "        total += labels.size(0)\n",
    "        correct += (predicted == labels).sum().item()\n",
    "        test_accuracy = 100 * correct / total\n",
    "        plt.plot(num_epochs, train_loss)\n",
    "        plt.xlabel('Epochs')\n",
    "        plt.ylabel('train loss')\n",
    "    print(f\"Epoch {epoch+1}/{num_epochs}, Test Loss: {test_loss:.3f}, Test Accuracy: {test_accuracy:.3f}%\")"
   ]
  },
  {
   "cell_type": "code",
   "execution_count": null,
   "id": "d7c612ec-164b-4c1c-ac18-abc6fd2eed7e",
   "metadata": {},
   "outputs": [],
   "source": []
  },
  {
   "cell_type": "code",
   "execution_count": 4,
   "id": "e1e5d3c3-4066-459b-81f6-823ebd309847",
   "metadata": {},
   "outputs": [
    {
     "name": "stdout",
     "output_type": "stream",
     "text": [
      "tensor([[[1., 1., 1.,  ..., 1., 1., 1.],\n",
      "         [1., 1., 1.,  ..., 1., 1., 1.],\n",
      "         [1., 1., 1.,  ..., 1., 1., 1.],\n",
      "         ...,\n",
      "         [1., 1., 1.,  ..., 1., 1., 1.],\n",
      "         [1., 1., 1.,  ..., 1., 1., 1.],\n",
      "         [1., 1., 1.,  ..., 1., 1., 1.]],\n",
      "\n",
      "        [[1., 1., 1.,  ..., 1., 1., 1.],\n",
      "         [1., 1., 1.,  ..., 1., 1., 1.],\n",
      "         [1., 1., 1.,  ..., 1., 1., 1.],\n",
      "         ...,\n",
      "         [1., 1., 1.,  ..., 1., 1., 1.],\n",
      "         [1., 1., 1.,  ..., 1., 1., 1.],\n",
      "         [1., 1., 1.,  ..., 1., 1., 1.]],\n",
      "\n",
      "        [[1., 1., 1.,  ..., 1., 1., 1.],\n",
      "         [1., 1., 1.,  ..., 1., 1., 1.],\n",
      "         [1., 1., 1.,  ..., 1., 1., 1.],\n",
      "         ...,\n",
      "         [1., 1., 1.,  ..., 1., 1., 1.],\n",
      "         [1., 1., 1.,  ..., 1., 1., 1.],\n",
      "         [1., 1., 1.,  ..., 1., 1., 1.]]])\n"
     ]
    }
   ],
   "source": [
    "import matplotlib.pyplot as plt\n",
    "for X, y in train_loader:\n",
    "    X = X\n",
    "    y = y\n",
    "\n",
    "print(X[1])\n",
    "from PIL import Image\n",
    "image_pil = Image.fromarray(X[0].permute(1, 2, 0).numpy().astype('uint8'))\n",
    "# show image using PIL\n",
    "image_pil.show()"
   ]
  },
  {
   "cell_type": "code",
   "execution_count": 46,
   "id": "f2d4acc5",
   "metadata": {},
   "outputs": [
    {
     "name": "stdout",
     "output_type": "stream",
     "text": [
      "tensor([1, 0, 1, 0])\n",
      "tensor([[0.5025],\n",
      "        [0.5035],\n",
      "        [0.5035],\n",
      "        [0.5031]])\n",
      "tensor([[0.5012, 0.4988],\n",
      "        [0.5014, 0.4986],\n",
      "        [0.5024, 0.4976],\n",
      "        [0.5012, 0.4988]])\n",
      "Test Loss: 13.035, Test Accuracy: 50.000%\n"
     ]
    }
   ],
   "source": [
    "model.eval()\n",
    "test_loss = 0\n",
    "test_accuracy = 0\n",
    "correct = 0\n",
    "total = 0\n",
    "\n",
    "with torch.no_grad():\n",
    "    for images, labels in test_loader:\n",
    "        images = images\n",
    "        labels = labels\n",
    "        mi_out, aux_task_out_normed, _ = model(images, labels)\n",
    "        print(labels)\n",
    "        print(mi_out)\n",
    "        print(aux_task_out_normed)\n",
    "        # loss = m2nn_loss(mi_true=labels.unsqueeze(1).float(), aux_true=labels, mi_pred=mi_out, aux_pred=aux_task_out_normed, center_loss=None)\n",
    "        test_loss += loss.item()\n",
    "        _, predicted = torch.max(aux_task_out_normed.data, 1)\n",
    "        total += labels.size(0)\n",
    "        correct += (predicted == labels).sum().item()\n",
    "        \n",
    "test_accuracy = 100 * correct / total\n",
    "print(f\"Test Loss: {test_loss:.3f}, Test Accuracy: {test_accuracy:.3f}%\")"
   ]
  },
  {
   "cell_type": "code",
   "execution_count": 47,
   "id": "7cad9f6d",
   "metadata": {},
   "outputs": [],
   "source": [
    "from sklearn.metrics import confusion_matrix\n",
    "import numpy as np\n",
    "y_predicted = []\n",
    "for i in mi_out:\n",
    "    if i.item()>0.4925:\n",
    "        y_predicted.append(int(1))\n",
    "    else:\n",
    "        y_predicted.append(int(i.item()))\n",
    "    \n",
    "    # if i>0.4925:\n",
    "    #     i=1\n",
    "mi_out = torch.tensor(y_predicted)"
   ]
  },
  {
   "cell_type": "code",
   "execution_count": 48,
   "id": "b785508a-bbde-4156-9e3f-22a89b3b20b7",
   "metadata": {},
   "outputs": [
    {
     "name": "stdout",
     "output_type": "stream",
     "text": [
      "tensor([1, 1, 1, 1])\n",
      "tensor([1, 0, 1, 0])\n",
      "[[0 2]\n",
      " [0 2]]\n"
     ]
    }
   ],
   "source": [
    "# print(mi_out)\n",
    "# Generate some example predictions and true labels\n",
    "y_pred = mi_out\n",
    "y_true = labels\n",
    "print(y_pred)\n",
    "print(y_true)\n",
    "# Compute the confusion matrix\n",
    "cm = confusion_matrix(y_true, y_pred)\n",
    "\n",
    "# Print the confusion matrix\n",
    "print(cm)"
   ]
  },
  {
   "cell_type": "code",
   "execution_count": 1,
   "id": "e25155b9-8b12-49c7-a643-06b14ccba2cd",
   "metadata": {},
   "outputs": [
    {
     "name": "stdout",
     "output_type": "stream",
     "text": [
      "Note: you may need to restart the kernel to use updated packages.\n"
     ]
    }
   ],
   "source": [
    "pip freeze > requirements.txt"
   ]
  },
  {
   "cell_type": "code",
   "execution_count": null,
   "id": "f2cafafc",
   "metadata": {},
   "outputs": [],
   "source": []
  }
 ],
 "metadata": {
  "kernelspec": {
   "display_name": "Python 3 (ipykernel)",
   "language": "python",
   "name": "python3"
  },
  "language_info": {
   "codemirror_mode": {
    "name": "ipython",
    "version": 3
   },
   "file_extension": ".py",
   "mimetype": "text/x-python",
   "name": "python",
   "nbconvert_exporter": "python",
   "pygments_lexer": "ipython3",
   "version": "3.10.9"
  }
 },
 "nbformat": 4,
 "nbformat_minor": 5
}
